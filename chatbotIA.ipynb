{
  "nbformat": 4,
  "nbformat_minor": 0,
  "metadata": {
    "colab": {
      "provenance": [],
      "authorship_tag": "ABX9TyMDdZhYBKhWxRAGd1HSlHUD",
      "include_colab_link": true
    },
    "kernelspec": {
      "name": "python3",
      "display_name": "Python 3"
    },
    "language_info": {
      "name": "python"
    }
  },
  "cells": [
    {
      "cell_type": "markdown",
      "metadata": {
        "id": "view-in-github",
        "colab_type": "text"
      },
      "source": [
        "<a href=\"https://colab.research.google.com/github/Guilherme5ilva/Projeto-Imers-o-I.A/blob/main/chatbotIA.ipynb\" target=\"_parent\"><img src=\"https://colab.research.google.com/assets/colab-badge.svg\" alt=\"Open In Colab\"/></a>"
      ]
    },
    {
      "cell_type": "code",
      "execution_count": 5,
      "metadata": {
        "id": "WeF6cZ4S3ngU"
      },
      "outputs": [],
      "source": [
        "!pip install -q -U google-generativeai"
      ]
    },
    {
      "cell_type": "code",
      "source": [
        "import google.generativeai as genai\n",
        "from google.colab import userdata\n",
        "api_key = userdata.get('SECRET_KEY')\n",
        "genai.configure(api_key=api_key)"
      ],
      "metadata": {
        "id": "cmMwgdEo6TDZ"
      },
      "execution_count": 15,
      "outputs": []
    },
    {
      "cell_type": "markdown",
      "source": [
        "listar os modelos disponiveis"
      ],
      "metadata": {
        "id": "gCXegg6L6xbo"
      }
    },
    {
      "cell_type": "code",
      "source": [
        "for m in genai.list_models():\n",
        "  if 'generateContent' in m.supported_generation_methods:\n",
        "    print(m.name)"
      ],
      "metadata": {
        "colab": {
          "base_uri": "https://localhost:8080/",
          "height": 139
        },
        "id": "lvR3dMVp7GZN",
        "outputId": "5a2a4cff-1b64-4d49-f177-224dc089cd92"
      },
      "execution_count": 7,
      "outputs": [
        {
          "output_type": "stream",
          "name": "stdout",
          "text": [
            "models/gemini-1.0-pro\n",
            "models/gemini-1.0-pro-001\n",
            "models/gemini-1.0-pro-latest\n",
            "models/gemini-1.0-pro-vision-latest\n",
            "models/gemini-1.5-pro-latest\n",
            "models/gemini-pro\n",
            "models/gemini-pro-vision\n"
          ]
        }
      ]
    },
    {
      "cell_type": "code",
      "source": [
        "generation_config = {\n",
        "    \"candidate_count\":1,\n",
        "    \"temperature\": 0.5,\n",
        "}"
      ],
      "metadata": {
        "id": "V__Q1t9B-PGe"
      },
      "execution_count": 8,
      "outputs": []
    },
    {
      "cell_type": "code",
      "source": [
        "safety_settings = {\n",
        "    \"HARASSMENT\": \"BLOCK_NONE\",\n",
        "    \"HATE\": \"BLOCK_NONE\",\n",
        "}"
      ],
      "metadata": {
        "id": "O9AGu6Pc_V8B"
      },
      "execution_count": 9,
      "outputs": []
    },
    {
      "cell_type": "markdown",
      "source": [
        "inicializando o modelo"
      ],
      "metadata": {
        "id": "TgI5YU3dA6M3"
      }
    },
    {
      "cell_type": "code",
      "source": [
        "model = genai.GenerativeModel(model_name=\"gemini-1.0-pro\",\n",
        "                              generation_config=generation_config,\n",
        "                              safety_settings=safety_settings)\n"
      ],
      "metadata": {
        "id": "jfC9twkUA8cp"
      },
      "execution_count": 10,
      "outputs": []
    },
    {
      "cell_type": "code",
      "source": [
        "response = model.generate_content(\"Transforme sua empresa em um hub de inovação: Invista em tecnologias de ponta e material audiovisual para impulsionar o marketing e a comunicação e tenha como referencia as tecnologias realidade virtual, realidade aumentada, metaverso, simuladores, tour interativo e i.a.\")\n",
        "print(response.text)"
      ],
      "metadata": {
        "colab": {
          "base_uri": "https://localhost:8080/",
          "height": 469
        },
        "id": "5veUGWR1CytG",
        "outputId": "31813463-a7f6-469a-c4bc-7a5997707886"
      },
      "execution_count": 11,
      "outputs": [
        {
          "output_type": "stream",
          "name": "stdout",
          "text": [
            "**Transformando Sua Empresa em um Hub de Inovação**\n",
            "\n",
            "**Investimento em Tecnologias de Ponta**\n",
            "\n",
            "* **Realidade Virtual (VR):** Crie experiências imersivas para treinamento, demonstrações de produtos e marketing.\n",
            "* **Realidade Aumentada (AR):** Sobreponha informações digitais ao mundo real, aprimorando a experiência do cliente e as operações comerciais.\n",
            "* **Metaverso:** Estabeleça uma presença virtual onde os clientes podem interagir com sua marca e produtos.\n",
            "* **Simuladores:** Ofereça experiências realistas e seguras para treinamento, avaliação e pesquisa.\n",
            "* **Tour Interativo:** Crie passeios virtuais interativos de suas instalações, produtos ou serviços.\n",
            "* **Inteligência Artificial (IA):** Automatize tarefas, analise dados e forneça insights valiosos para tomada de decisão.\n",
            "\n",
            "**Impulsionando Marketing e Comunicação**\n",
            "\n",
            "* **Marketing Imersivo:** Use VR e AR para criar campanhas de marketing envolventes e memoráveis.\n",
            "* **Experiências de Cliente Aprimoradas:** Forneça experiências de cliente personalizadas e interativas por meio do Metaverso.\n",
            "* **Comunicação Eficaz:** Use simuladores para treinar funcionários em habilidades de comunicação e atendimento ao cliente.\n",
            "* **Educação e Treinamento:** Crie tours interativos e simulações para facilitar o aprendizado e o desenvolvimento.\n",
            "* **Pesquisa e Desenvolvimento:** Utilize IA para analisar dados e identificar tendências e oportunidades emergentes.\n",
            "\n",
            "**Benefícios da Transformação**\n",
            "\n",
            "* **Inovação Aprimorada:** A adoção de tecnologias de ponta fomenta uma cultura de inovação e pensamento criativo.\n",
            "* **Experiência do Cliente Superior:** As tecnologias imersivas e interativas aprimoram a experiência do cliente, aumentando a satisfação e a fidelidade.\n",
            "* **Eficiência Operacional:** A IA e outras tecnologias automatizam tarefas, economizam tempo e reduzem custos.\n",
            "* **Vantagem Competitiva:** A adoção antecipada de tecnologias de ponta diferencia sua empresa e lhe dá uma vantagem competitiva.\n",
            "* **Preparação para o Futuro:** Investir em tecnologias de ponta posiciona sua empresa para o sucesso em um cenário de negócios em constante evolução.\n"
          ]
        }
      ]
    },
    {
      "cell_type": "code",
      "source": [
        "chat = model.start_chat(history=[])"
      ],
      "metadata": {
        "id": "9-FnAIU4Hcb6"
      },
      "execution_count": 12,
      "outputs": []
    },
    {
      "cell_type": "code",
      "source": [
        "prompt = input(\"Esperando prompt: \")\n",
        "while prompt != \"fim\":\n",
        "  response = chat.send_message(prompt)\n",
        "  print(\"resposta: \", response.text, \"\\n\")\n",
        "  prompt = input(\"Esperando prompt: \")"
      ],
      "metadata": {
        "id": "LDOIh-UCIEIz"
      },
      "execution_count": null,
      "outputs": []
    },
    {
      "cell_type": "code",
      "source": [
        "#Melhorando a visualização\n",
        "#Código disponível em https://ai.google.dev/tutorials/python_quickstart#import_packages\n",
        "import textwrap\n",
        "from IPython.display import display\n",
        "from IPython.display import Markdown\n",
        "\n",
        "def to_markdown(text):\n",
        "  text = text.replace('•', '  *')\n",
        "  return Markdown(textwrap.indent(text, '> ', predicate=lambda _: True))\n",
        "\n",
        "#Imprimindo o histórico\n",
        "for message in chat.history:\n",
        "  display(to_markdown(f'**{message.role}**: {message.parts[0].text}'))\n",
        "  print('-------------------------------------------')"
      ],
      "metadata": {
        "id": "tKt59pcrdlFa"
      },
      "execution_count": null,
      "outputs": []
    }
  ]
}